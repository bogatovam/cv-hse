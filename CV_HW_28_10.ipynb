{
  "nbformat": 4,
  "nbformat_minor": 0,
  "metadata": {
    "colab": {
      "name": "CV-HW-28-10.ipynb",
      "provenance": [],
      "collapsed_sections": []
    },
    "kernelspec": {
      "name": "python3",
      "display_name": "Python 3"
    }
  },
  "cells": [
    {
      "cell_type": "markdown",
      "metadata": {
        "id": "nVrP1n1q6ORc"
      },
      "source": [
        "## Подготовка окружения"
      ]
    },
    {
      "cell_type": "code",
      "metadata": {
        "id": "jMGGrG-e5bf3",
        "outputId": "c5f619d5-a4db-4baa-d5ef-16bf2c4fc3db",
        "colab": {
          "base_uri": "https://localhost:8080/"
        }
      },
      "source": [
        "!pip install opencv-python"
      ],
      "execution_count": 1,
      "outputs": [
        {
          "output_type": "stream",
          "text": [
            "Requirement already satisfied: opencv-python in /usr/local/lib/python3.6/dist-packages (4.1.2.30)\n",
            "Requirement already satisfied: numpy>=1.11.3 in /usr/local/lib/python3.6/dist-packages (from opencv-python) (1.18.5)\n"
          ],
          "name": "stdout"
        }
      ]
    },
    {
      "cell_type": "code",
      "metadata": {
        "id": "uMJhxa0W6UIF"
      },
      "source": [
        "import cv2\n",
        "import numpy as np"
      ],
      "execution_count": 2,
      "outputs": []
    },
    {
      "cell_type": "markdown",
      "metadata": {
        "id": "ixUjhnpplV-o"
      },
      "source": [
        "## Задание №1\n",
        "\n",
        "Найти ближайшую ортогональную матрицу (в смысле нормы\n",
        "Фробениуса) к матрице $A$. Вывести результат в консоль и, посмотрев на него, найти соответствующие этому преобразованию угол и направление поворота."
      ]
    },
    {
      "cell_type": "markdown",
      "metadata": {
        "id": "6EGJBWRr3ueh"
      },
      "source": [
        "**Решение.** Для нахождения ближайшей ортогональной матрицы воспользуемся доказанным на лекции равенством:\n",
        "\n",
        ">$\n",
        " \\operatorname{arg\\,min}_{BB^T=E} ||A-B||_F = UV^T\n",
        "$"
      ]
    },
    {
      "cell_type": "code",
      "metadata": {
        "id": "Gg6tISbVRYY0"
      },
      "source": [
        "A = [[0.5,        2.16506351, 0.4330127],\n",
        "     [-0.8660254, 1.25,       0.25     ],\n",
        "     [0,          0.5,        2.5      ]]\n",
        "     \n",
        "A = np.array(A)"
      ],
      "execution_count": 3,
      "outputs": []
    },
    {
      "cell_type": "code",
      "metadata": {
        "id": "Uq13fMnB7G8D"
      },
      "source": [
        " d, u, vt = cv2.SVDecomp(A)"
      ],
      "execution_count": 4,
      "outputs": []
    },
    {
      "cell_type": "code",
      "metadata": {
        "id": "X-IGKhSr-ism",
        "outputId": "d1ba2a06-3400-4a5c-9cec-19ee3e5fa6a9",
        "colab": {
          "base_uri": "https://localhost:8080/"
        }
      },
      "source": [
        "nom_A = np.matmul(u, vt)\n",
        "print(nom_A)"
      ],
      "execution_count": 5,
      "outputs": [
        {
          "output_type": "stream",
          "text": [
            "[[ 5.00000000e-01  8.66025404e-01 -3.87999696e-10]\n",
            " [-8.66025404e-01  5.00000000e-01  1.65509423e-11]\n",
            " [ 2.08333333e-10  3.27741947e-10  1.00000000e+00]]\n"
          ],
          "name": "stdout"
        }
      ]
    },
    {
      "cell_type": "code",
      "metadata": {
        "id": "KEdxnSyz_oa9",
        "outputId": "058d7360-7a5b-4550-dd42-5c285c0c398b",
        "colab": {
          "base_uri": "https://localhost:8080/"
        }
      },
      "source": [
        "np.linalg.norm(A - nom_A)"
      ],
      "execution_count": 6,
      "outputs": [
        {
          "output_type": "execute_result",
          "data": {
            "text/plain": [
              "2.2360679774464374"
            ]
          },
          "metadata": {
            "tags": []
          },
          "execution_count": 6
        }
      ]
    },
    {
      "cell_type": "markdown",
      "metadata": {
        "id": "CdxVoX9vBk-c"
      },
      "source": [
        "**Проверка**. Получившуюся матрицу с некоторой погрешностью можно считать единичной, следовательно `nom_A` ортогональная."
      ]
    },
    {
      "cell_type": "code",
      "metadata": {
        "id": "GPoOjMdBA1LF",
        "outputId": "081828d8-7818-4685-cab3-42e2d62de00e",
        "colab": {
          "base_uri": "https://localhost:8080/"
        }
      },
      "source": [
        "np.matmul(nom_A.transpose(), nom_A)"
      ],
      "execution_count": 7,
      "outputs": [
        {
          "output_type": "execute_result",
          "data": {
            "text/plain": [
              "array([[ 1.00000000e+00,  6.99369424e-17, -5.15817108e-17],\n",
              "       [ 6.99369424e-17,  1.00000000e+00, -1.75180098e-16],\n",
              "       [-5.15817108e-17, -1.75180098e-16,  1.00000000e+00]])"
            ]
          },
          "metadata": {
            "tags": []
          },
          "execution_count": 7
        }
      ]
    },
    {
      "cell_type": "markdown",
      "metadata": {
        "id": "ugijmeonP2p1"
      },
      "source": [
        "**Угол и направление поворота.** Если внимательно посмотреть на матрицу, то можно заметить, что она соответствует матрице поворота вокруг оси $z$ на угол $-60^o$."
      ]
    },
    {
      "cell_type": "code",
      "metadata": {
        "id": "QP7SsyutPtWi",
        "outputId": "10a02898-8035-4142-91dd-905fc02aa4fe",
        "colab": {
          "base_uri": "https://localhost:8080/"
        }
      },
      "source": [
        "np.rad2deg(np.arcsin(-0.866025404))"
      ],
      "execution_count": 8,
      "outputs": [
        {
          "output_type": "execute_result",
          "data": {
            "text/plain": [
              "-60.00000002470152"
            ]
          },
          "metadata": {
            "tags": []
          },
          "execution_count": 8
        }
      ]
    },
    {
      "cell_type": "markdown",
      "metadata": {
        "id": "sVNy-SyRQh1s"
      },
      "source": [
        "## Задание №2\n",
        "\n",
        "При помощи SVD найти обратную матрицу к квадратной матрице nxn для размеров матрицы n=3 и n=10.\n",
        "\n",
        "Матрица состоит из элементов:\n",
        ">$A_{i,j} = \\frac{1}{i+j-1}$\n",
        "\n",
        "Для избежания деления на ноль, индексация элементов матрицы начинается с единицы."
      ]
    },
    {
      "cell_type": "markdown",
      "metadata": {
        "id": "Vd4ZhPzLgIKM"
      },
      "source": [
        "**Решение.** \n",
        ">$A^{−1} = (UDV^T)^{-1} = VD^{−1}U^T$"
      ]
    },
    {
      "cell_type": "code",
      "metadata": {
        "id": "N6KXdK78QhC7",
        "outputId": "4769ce99-fe03-4703-dabe-714f39763575",
        "colab": {
          "base_uri": "https://localhost:8080/"
        }
      },
      "source": [
        "for n in [3, 10]:\n",
        "  A = np.fromfunction(lambda i, j: 1 / ( (i + 1) + (j + 1) - 1), (n,n))\n",
        "  print(\"\\nMatrix:\\n{}\\n\".format(A))\n",
        "  d, u, vt = cv2.SVDecomp(A)\n",
        "\n",
        "  v = vt.transpose()\n",
        "  ut = u.transpose()\n",
        "  inv_d = np.diag(1 / d.flatten())\n",
        "  \n",
        "  inv_a = v.dot(inv_d).dot(ut)\n",
        "  print(\"\\nInverse matrix:\\n{}\\n\".format(A))\n",
        "  print(\"\\nThe next matrix must be identity matrix:\\n{}\\n\".format(inv_a.dot(A)))"
      ],
      "execution_count": 9,
      "outputs": [
        {
          "output_type": "stream",
          "text": [
            "\n",
            "Matrix:\n",
            "[[1.         0.5        0.33333333]\n",
            " [0.5        0.33333333 0.25      ]\n",
            " [0.33333333 0.25       0.2       ]]\n",
            "\n",
            "\n",
            "Inverse matrix:\n",
            "[[1.         0.5        0.33333333]\n",
            " [0.5        0.33333333 0.25      ]\n",
            " [0.33333333 0.25       0.2       ]]\n",
            "\n",
            "\n",
            "The next matrix must be identity matrix:\n",
            "[[ 1.00000000e+00  0.00000000e+00  1.55431223e-16]\n",
            " [ 5.69914486e-15  1.00000000e+00  8.43769499e-16]\n",
            " [-1.99099996e-14 -7.10542736e-15  1.00000000e+00]]\n",
            "\n",
            "\n",
            "Matrix:\n",
            "[[1.         0.5        0.33333333 0.25       0.2        0.16666667\n",
            "  0.14285714 0.125      0.11111111 0.1       ]\n",
            " [0.5        0.33333333 0.25       0.2        0.16666667 0.14285714\n",
            "  0.125      0.11111111 0.1        0.09090909]\n",
            " [0.33333333 0.25       0.2        0.16666667 0.14285714 0.125\n",
            "  0.11111111 0.1        0.09090909 0.08333333]\n",
            " [0.25       0.2        0.16666667 0.14285714 0.125      0.11111111\n",
            "  0.1        0.09090909 0.08333333 0.07692308]\n",
            " [0.2        0.16666667 0.14285714 0.125      0.11111111 0.1\n",
            "  0.09090909 0.08333333 0.07692308 0.07142857]\n",
            " [0.16666667 0.14285714 0.125      0.11111111 0.1        0.09090909\n",
            "  0.08333333 0.07692308 0.07142857 0.06666667]\n",
            " [0.14285714 0.125      0.11111111 0.1        0.09090909 0.08333333\n",
            "  0.07692308 0.07142857 0.06666667 0.0625    ]\n",
            " [0.125      0.11111111 0.1        0.09090909 0.08333333 0.07692308\n",
            "  0.07142857 0.06666667 0.0625     0.05882353]\n",
            " [0.11111111 0.1        0.09090909 0.08333333 0.07692308 0.07142857\n",
            "  0.06666667 0.0625     0.05882353 0.05555556]\n",
            " [0.1        0.09090909 0.08333333 0.07692308 0.07142857 0.06666667\n",
            "  0.0625     0.05882353 0.05555556 0.05263158]]\n",
            "\n",
            "\n",
            "Inverse matrix:\n",
            "[[1.         0.5        0.33333333 0.25       0.2        0.16666667\n",
            "  0.14285714 0.125      0.11111111 0.1       ]\n",
            " [0.5        0.33333333 0.25       0.2        0.16666667 0.14285714\n",
            "  0.125      0.11111111 0.1        0.09090909]\n",
            " [0.33333333 0.25       0.2        0.16666667 0.14285714 0.125\n",
            "  0.11111111 0.1        0.09090909 0.08333333]\n",
            " [0.25       0.2        0.16666667 0.14285714 0.125      0.11111111\n",
            "  0.1        0.09090909 0.08333333 0.07692308]\n",
            " [0.2        0.16666667 0.14285714 0.125      0.11111111 0.1\n",
            "  0.09090909 0.08333333 0.07692308 0.07142857]\n",
            " [0.16666667 0.14285714 0.125      0.11111111 0.1        0.09090909\n",
            "  0.08333333 0.07692308 0.07142857 0.06666667]\n",
            " [0.14285714 0.125      0.11111111 0.1        0.09090909 0.08333333\n",
            "  0.07692308 0.07142857 0.06666667 0.0625    ]\n",
            " [0.125      0.11111111 0.1        0.09090909 0.08333333 0.07692308\n",
            "  0.07142857 0.06666667 0.0625     0.05882353]\n",
            " [0.11111111 0.1        0.09090909 0.08333333 0.07692308 0.07142857\n",
            "  0.06666667 0.0625     0.05882353 0.05555556]\n",
            " [0.1        0.09090909 0.08333333 0.07692308 0.07142857 0.06666667\n",
            "  0.0625     0.05882353 0.05555556 0.05263158]]\n",
            "\n",
            "\n",
            "The next matrix must be identity matrix:\n",
            "[[ 9.99999999e-01 -5.07678941e-10 -2.43109770e-10 -2.44610403e-10\n",
            "  -1.04437551e-10 -2.38836981e-11 -5.82076609e-11 -8.65574698e-11\n",
            "  -5.53591348e-11 -4.89989899e-11]\n",
            " [ 9.32211925e-08  1.00000004e+00  2.13463067e-08  2.37813171e-08\n",
            "   1.00479772e-08  6.50443552e-09  8.38190317e-09  7.82098768e-09\n",
            "   2.74455937e-09  8.53116317e-09]\n",
            " [-1.96518461e-06 -9.09521542e-07  9.99999343e-01 -6.01563390e-07\n",
            "  -4.88744182e-07 -1.94009874e-07 -3.57627869e-07 -2.29913289e-07\n",
            "  -3.28808142e-07 -2.98954104e-07]\n",
            " [ 2.29352546e-05  1.14221389e-05  7.78885082e-06  1.00000726e+00\n",
            "   5.58624435e-06  2.65449563e-06  3.33786011e-06  3.46417181e-06\n",
            "   3.24548215e-06  3.62052037e-06]\n",
            " [-8.66740889e-05 -3.94840108e-05 -2.60000471e-05 -2.52242231e-05\n",
            "   9.99985344e-01  1.09424106e-06 -1.14440918e-05 -1.18249487e-05\n",
            "  -1.09755360e-05 -7.38627309e-06]\n",
            " [ 2.27123487e-04  1.09133390e-04  5.74141837e-05  7.28873017e-05\n",
            "   5.41167682e-05  1.00002064e+00  1.14440918e-05  1.86588851e-05\n",
            "   2.30173334e-05  3.34507602e-05]\n",
            " [-3.79047776e-04 -2.02812022e-04 -1.10101381e-04 -9.93731580e-05\n",
            "  -6.82146883e-05 -1.05761844e-05  9.99965668e-01 -4.18690512e-05\n",
            "  -4.54264741e-05 -3.19930623e-05]\n",
            " [ 4.04943728e-04  1.79903843e-04  1.55914407e-04  1.34845348e-04\n",
            "   7.80553312e-05  6.09375200e-05  8.39233398e-05  1.00005534e+00\n",
            "   4.79940445e-05  5.83175487e-05]\n",
            " [-1.94908462e-04 -9.10222899e-05 -3.14900597e-05 -6.08710766e-05\n",
            "  -3.27135257e-05 -6.29801195e-06 -2.28881836e-05 -1.95816917e-05\n",
            "   9.99980914e-01 -2.37031560e-05]\n",
            " [ 4.77422792e-05  2.23946173e-05  1.40973662e-05  1.46802815e-05\n",
            "   9.35867302e-06  1.57969664e-06  6.67572021e-06  6.24636929e-06\n",
            "   4.47092686e-06  1.00000607e+00]]\n",
            "\n"
          ],
          "name": "stdout"
        }
      ]
    },
    {
      "cell_type": "markdown",
      "metadata": {
        "id": "LQu3C-AGkcmT"
      },
      "source": [
        "## Задание №3\n",
        "\n",
        "Для квадратной матрицы nxn найти с использованием SVD все решения уравнений $AX=0$ для $n=4$\n",
        "\n",
        "Матрица состоит из элементов:\n",
        ">$A_{i,j} = i+j-1$"
      ]
    },
    {
      "cell_type": "markdown",
      "metadata": {
        "id": "mZ2H1fqduChU"
      },
      "source": [
        "**Решение.** Вектор x, решение системы, можно охарактеризовать как правый сингулярный вектор, соответствующий сингулярному значению матрицы A, равному нулю. Будем принимать элемент равным нулю, если он по модулю меньше $1e-10$."
      ]
    },
    {
      "cell_type": "code",
      "metadata": {
        "id": "HgVhBb_Wlnxh",
        "outputId": "aac8b1ba-9f5e-44d0-b348-25731a702382",
        "colab": {
          "base_uri": "https://localhost:8080/"
        }
      },
      "source": [
        "A = np.fromfunction(lambda i, j: ( (i + 1) + (j + 1) - 1), (4,4))\n",
        "print(\"\\nMatrix:\\n{}\\n\".format(A))\n",
        "d, u, vt = cv2.SVDecomp(A)\n",
        "\n",
        "x_len = len(np.where(np.abs(d) < 1e-10))\n",
        "x_arr = vt[-x_len:]\n",
        "\n",
        "for i in range(x_len):\n",
        "  print(\"Solution #{}:\\n{}\\n\".format(i + 1, x_arr[i]))\n",
        "  test = A.dot(x_arr[i])\n",
        "  test[test < 1e-10] = 0\n",
        "  print(\"The next values must be ZERO: {}\\n\\n\".format(test))"
      ],
      "execution_count": 10,
      "outputs": [
        {
          "output_type": "stream",
          "text": [
            "\n",
            "Matrix:\n",
            "[[1. 2. 3. 4.]\n",
            " [2. 3. 4. 5.]\n",
            " [3. 4. 5. 6.]\n",
            " [4. 5. 6. 7.]]\n",
            "\n",
            "Solution #1:\n",
            "[ 0.46874253 -0.83617774  0.2661279   0.10130732]\n",
            "\n",
            "The next values must be ZERO: [0. 0. 0. 0.]\n",
            "\n",
            "\n",
            "Solution #2:\n",
            "[ 0.28333804 -0.028404   -0.79320612  0.53827208]\n",
            "\n",
            "The next values must be ZERO: [0. 0. 0. 0.]\n",
            "\n",
            "\n"
          ],
          "name": "stdout"
        }
      ]
    },
    {
      "cell_type": "markdown",
      "metadata": {
        "id": "2B1ojnE2xyba"
      },
      "source": [
        "## Задание №4\n",
        "\n",
        "Написать программу, находящую все точки пересечения двух прямых на\n",
        "плоскости методом однородных координат. Прямые заданы уравнениями:\n",
        ">$ax+by+c=0$\n",
        "\n",
        ">$cx+dy+e=0$"
      ]
    },
    {
      "cell_type": "markdown",
      "metadata": {
        "id": "z4Nd2tv9yFeC"
      },
      "source": [
        "**Решение.**\n",
        "Точка пересечения двух линий, заданных как $l_1,l_2$, есть их векторное произведение:\n",
        ">$p=l_1 * l_2$"
      ]
    },
    {
      "cell_type": "code",
      "metadata": {
        "id": "GbKsKiGfxyDx",
        "outputId": "cd74ddc2-9ac8-481f-cd63-4fb9ea534ce1",
        "colab": {
          "base_uri": "https://localhost:8080/"
        }
      },
      "source": [
        "l1 = np.random.rand(3) * 10\n",
        "l2 = np.random.rand(3) * 10\n",
        "\n",
        "p = np.cross(l1, l2)\n",
        "\n",
        "if np.abs(p[2]) < 1e-10:\n",
        "  print(\"Lines {} and {} are parallel\".format(l1, l2))\n",
        "else:\n",
        "  h_p = [p[0]/p[2], p[1]/p[2], 1]\n",
        "  print(\"Intersection point of {} and {}:\\t{}\".format(l1, l2, h_p[:2]))\n",
        "  print(\"The next values must be equal to or close to ZERO: {}\\n\\n\".format([l1.dot(h_p), l2.dot(h_p)]))"
      ],
      "execution_count": 11,
      "outputs": [
        {
          "output_type": "stream",
          "text": [
            "Intersection point of [7.63372134 9.25650559 5.37516423] and [7.68407199 6.5340733  6.45949679]:\t[-1.1610613921638964, 0.37682199373324476]\n",
            "The next values must be equal to or close to ZERO: [-3.552713678800501e-15, -2.6645352591003757e-15]\n",
            "\n",
            "\n"
          ],
          "name": "stdout"
        }
      ]
    }
  ]
}