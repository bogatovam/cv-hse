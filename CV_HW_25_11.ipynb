{
  "nbformat": 4,
  "nbformat_minor": 0,
  "metadata": {
    "colab": {
      "name": "CV-HW-25-11.ipynb",
      "provenance": [],
      "collapsed_sections": [],
      "authorship_tag": "ABX9TyNRYYvZBYwrOarl8nik7Cwj",
      "include_colab_link": true
    },
    "kernelspec": {
      "name": "python3",
      "display_name": "Python 3"
    }
  },
  "cells": [
    {
      "cell_type": "markdown",
      "metadata": {
        "id": "view-in-github",
        "colab_type": "text"
      },
      "source": [
        "<a href=\"https://colab.research.google.com/github/bogatovam/cv-hse/blob/main/CV_HW_25_11.ipynb\" target=\"_parent\"><img src=\"https://colab.research.google.com/assets/colab-badge.svg\" alt=\"Open In Colab\"/></a>"
      ]
    },
    {
      "cell_type": "markdown",
      "metadata": {
        "id": "nVrP1n1q6ORc"
      },
      "source": [
        "## Подготовка окружения"
      ]
    },
    {
      "cell_type": "code",
      "metadata": {
        "id": "uMJhxa0W6UIF"
      },
      "source": [
        "import cv2\n",
        "import numpy as np"
      ],
      "execution_count": 1,
      "outputs": []
    },
    {
      "cell_type": "markdown",
      "metadata": {
        "id": "ixUjhnpplV-o"
      },
      "source": [
        "## Задание №1\n",
        "\n",
        "В стереопаре известно положение эпиполя на втором изображении.\n",
        "Кроме того, области на изображениях, соответствующие плоскому трехмерному объекту, связаны известным преобразованием гомографии. Найти выражение для фундаментальной матрицы через эпиполь и матрицу гомографии."
      ]
    },
    {
      "cell_type": "markdown",
      "metadata": {
        "id": "6EGJBWRr3ueh"
      },
      "source": [
        "**Решение.**\n",
        "\n",
        "По определению преобразование гомографии:\n",
        "$ w\\begin{pmatrix} u'\\\\v'\\\\1\\end{pmatrix} =  H \\begin{pmatrix} u\\\\v\\\\1\\end{pmatrix}$\n",
        "\n",
        "\n",
        "$ \\begin{pmatrix} u\\\\v\\\\1\\end{pmatrix} =  P \\begin{pmatrix} X\\\\Y\\\\Z\\\\1\\end{pmatrix};       \\begin{pmatrix} u'\\\\v'\\\\1\\end{pmatrix} =  P' \\begin{pmatrix} X\\\\Y\\\\Z\\\\1\\end{pmatrix}$\n",
        "\n",
        "$ P^+\\begin{pmatrix} u\\\\v\\\\1\\end{pmatrix} =  \\begin{pmatrix} X\\\\Y\\\\Z\\\\1\\end{pmatrix} = P'^+\\begin{pmatrix} u'\\\\v'\\\\1\\end{pmatrix}$\n",
        "\n",
        "$ \\begin{pmatrix} u'\\\\v'\\\\1\\end{pmatrix} =  P'P^+ \\begin{pmatrix} u\\\\v\\\\1\\end{pmatrix}$\n",
        "\n",
        "\n",
        "Таким образом, фундаментальную матрицу можно записать в виде: \n",
        "> $F = [e']_XH $\n",
        "\n",
        "> $H = P'P^+ $\n"
      ]
    },
    {
      "cell_type": "markdown",
      "metadata": {
        "id": "sVNy-SyRQh1s"
      },
      "source": [
        "## Задание №2\n",
        "\n",
        " Эпиполь на изображении в стереопаре имеет координаты $(1,1,1)^T$.\n",
        "Найти преобразование гомографии, переводящее его в $(1,0,0)^T$.\n",
        " "
      ]
    },
    {
      "cell_type": "markdown",
      "metadata": {
        "id": "EdaNI5buYAcd"
      },
      "source": [
        "**Решение.** \n",
        "\n",
        "Воспользуемся известной матрицой $G$ для преобразования эпиполей на одном изображении.\n",
        "\n",
        "Однако, нам необходимо сделать координату игрек равной нулю, поэтому выполним афинное преобразование и подвинем точку на -1 по оси игрек.\n"
      ]
    },
    {
      "cell_type": "code",
      "metadata": {
        "id": "GDjzClwsQzOj"
      },
      "source": [
        "G = [[1, 0,   0],\n",
        "     [0, 1,  0],\n",
        "     [-1, 0,  1]]\n",
        "\n",
        "G = np.array(G)\n",
        "\n",
        "T = [[ 1.,  0.,  0.],\n",
        "     [ 0.,  1., -1.],\n",
        "     [ 0.,  0.,  1.]]\n",
        "\n",
        "T = np.array(T)"
      ],
      "execution_count": 2,
      "outputs": []
    },
    {
      "cell_type": "code",
      "metadata": {
        "colab": {
          "base_uri": "https://localhost:8080/"
        },
        "id": "qRG5s9BXTk_G",
        "outputId": "c555434f-02af-430b-f190-cf08e0d5f32d"
      },
      "source": [
        "G_ = G.dot(T)\n",
        "print(\"Homography matrix:\\n{}\\n\".format(G_))\n",
        "print(\"{}^T\\t=>\\t{}^T\".format([[1,1,1]], G_.dot(np.array([[1,1,1]]).T).T))"
      ],
      "execution_count": 3,
      "outputs": [
        {
          "output_type": "stream",
          "text": [
            "Homography matrix:\n",
            "[[ 1.  0.  0.]\n",
            " [ 0.  1. -1.]\n",
            " [-1.  0.  1.]]\n",
            "\n",
            "[[1, 1, 1]]^T\t=>\t[[1. 0. 0.]]^T\n"
          ],
          "name": "stdout"
        }
      ]
    },
    {
      "cell_type": "markdown",
      "metadata": {
        "id": "LQu3C-AGkcmT"
      },
      "source": [
        "## Задание №3\n",
        "\n",
        "Вторая камера в стереопаре смещена относительно первой по оси x на величину T (в системе отсчета, связанной с первой камерой). Известны координаты пикселей, соответствующих трехмерной точке Q на обоих изображениях: (u,v) и\n",
        "(u‘,v’) соответственно. Кроме того, известно, что камеры имеют разные внутренние параметры. Найти координату Z точки Q в системе отсчета первой камеры."
      ]
    },
    {
      "cell_type": "markdown",
      "metadata": {
        "id": "mZ2H1fqduChU"
      },
      "source": [
        "**Решение.** \n",
        "Известно, что:\n",
        "> $(u,v,1) = P*(X,Y,Z,1)$\n",
        "\n",
        "Запишем матрицы проекций для каждой камеры\n",
        "> $P = K [I|0]$ \n",
        "\n",
        "> $P'= K'[I|T] $ \n",
        "\n",
        "Подставим матрицу проекции первой камерв в первое уравнение и распишем выражение для $x$-координаты $u$:\n",
        ">$u = f_x \\frac{X}{Z} + C_x (1)$\n",
        "\n",
        "Аналогично для второй камеры:\n",
        ">$u' = f_x'\\frac{X + T_x}{Z} + C_x' (2)$\n",
        "\n",
        "Вычтем первое уравнение из второго и преобразуем:\n",
        ">$ (2) - (1): u' - u = f_x'\\frac{X + T_x}{Z}- f_x\\frac{X}{Z} +(C_x'-C_x)$\n",
        "\n",
        ">$ (u' - u) - (C_x'-C_x) = \\frac{ f_x'(X + T_x) - f_xX}{Z}$\n",
        "\n",
        ">$ Z = \\frac{f_x'(X + T_x) - f_xX}{ (u' - u) - (C_x'-C_x)} =\\frac{(f_x' -f_x)X  + f_x'T_x}{ (u' - u) - (C_x'-C_x)} $\n",
        "\n",
        "\n"
      ]
    },
    {
      "cell_type": "markdown",
      "metadata": {
        "id": "mNRK23B-dvRL"
      },
      "source": [
        "## Задание №4\n",
        "\n",
        "Написать программу, которая находит фундаментальную матрицу\n",
        "стереопары по известным 8 соответствиям. В качестве теста взять стереопару с смещением вдоль оси x (в системе отсчета первой камеры) и единичными матрицами внутренних параметров. Соответствия сгенерировать, спроектировав 8\n",
        "трехмерных точек, выбранных случайно, на оба изображения. "
      ]
    },
    {
      "cell_type": "markdown",
      "metadata": {
        "id": "T5m7L2m9hFX3"
      },
      "source": [
        "**Решение.** \n",
        "\n",
        "[Алгоритм взят из википедии](https://en.wikipedia.org/wiki/Eight-point_algorithm)\n",
        "\n",
        "Выражение $({\\mathbf  {y}}')^{{T}}\\,{\\mathbf  {F}}\\,{\\mathbf  {y}}=0$ можно преобразовать как ${\\mathbf  {e}}\\cdot {\\tilde  {{\\mathbf  {y}}}}=0$, где \n",
        "\n",
        "$  {\\tilde  {{\\mathbf  {y}}}} = \\begin{pmatrix}y'_{1}y_{1}\\\\y'_{1}y_{2}\\\\y'_{1}\\\\y'_{2}y_{1}\\\\y'_{2}y_{2}\\\\y'_{2}\\\\y_{1}\\\\y_{2}\\\\1\\end{pmatrix}$, ${\\mathbf  {e}}={\\begin{pmatrix}e_{{11}}\\\\e_{{12}}\\\\e_{{13}}\\\\e_{{21}}\\\\e_{{22}}\\\\e_{{23}}\\\\e_{{31}}\\\\e_{{32}}\\\\e_{{33}}\\end{pmatrix}}$\n",
        "\n",
        "и впоследствии решать как однородную систему уравнений, используя сингулярное разложение. \n",
        "\n",
        "Таким образом, каждую пару точек записываем в виде вектора $ {\\tilde  {{\\mathbf  {y}}}}$. Каждый получившийся вектор складывем в матрицу, по столбцам и решаем однородную систему уравнений."
      ]
    },
    {
      "cell_type": "code",
      "metadata": {
        "id": "5C51LtiyhkTO",
        "colab": {
          "base_uri": "https://localhost:8080/"
        },
        "outputId": "38290782-0256-42b7-baef-05b0e5941a5d"
      },
      "source": [
        "points = []\n",
        "num_points = 8\n",
        "\n",
        "for i in range(num_points):\n",
        "  point = np.random.rand(3) * 10\n",
        "  points.append(point)\n",
        "\n",
        "points = np.concatenate((points, np.ones((num_points, 1))), axis=1)\n",
        "points"
      ],
      "execution_count": 4,
      "outputs": [
        {
          "output_type": "execute_result",
          "data": {
            "text/plain": [
              "array([[0.58924404, 2.83834991, 5.04996497, 1.        ],\n",
              "       [8.41593965, 1.82966809, 4.45578383, 1.        ],\n",
              "       [4.17945907, 3.68499629, 8.80016175, 1.        ],\n",
              "       [1.94308352, 7.03846162, 0.73675762, 1.        ],\n",
              "       [9.5488857 , 0.51465053, 6.28366588, 1.        ],\n",
              "       [8.02308615, 0.59941825, 0.54268065, 1.        ],\n",
              "       [8.97753059, 2.90554951, 6.14699039, 1.        ],\n",
              "       [2.77778317, 9.10919974, 5.01164164, 1.        ]])"
            ]
          },
          "metadata": {
            "tags": []
          },
          "execution_count": 4
        }
      ]
    },
    {
      "cell_type": "code",
      "metadata": {
        "id": "o4xlKt-ThD5V"
      },
      "source": [
        "T_1 = np.array([[0, 0, 0]]).T\n",
        "T_2 = np.array([[10, 0, 0]]).T\n",
        "\n",
        "R_1 = np.diag(np.ones((3, )))\n",
        "R_2 = np.diag(np.ones((3, )))\n",
        "\n",
        "P_1 = np.concatenate((R_1, T_1), axis=1)\n",
        "P_2 = np.concatenate((R_2, T_2), axis=1)"
      ],
      "execution_count": 5,
      "outputs": []
    },
    {
      "cell_type": "code",
      "metadata": {
        "id": "pKLoy18kh9nG",
        "colab": {
          "base_uri": "https://localhost:8080/"
        },
        "outputId": "e5e74094-e2aa-486b-d678-e91aeec2889f"
      },
      "source": [
        "points_1 = P_1.dot(points.T).T\n",
        "points_2 = P_2.dot(points.T).T\n",
        "points_1, points_2"
      ],
      "execution_count": 6,
      "outputs": [
        {
          "output_type": "execute_result",
          "data": {
            "text/plain": [
              "(array([[0.58924404, 2.83834991, 5.04996497],\n",
              "        [8.41593965, 1.82966809, 4.45578383],\n",
              "        [4.17945907, 3.68499629, 8.80016175],\n",
              "        [1.94308352, 7.03846162, 0.73675762],\n",
              "        [9.5488857 , 0.51465053, 6.28366588],\n",
              "        [8.02308615, 0.59941825, 0.54268065],\n",
              "        [8.97753059, 2.90554951, 6.14699039],\n",
              "        [2.77778317, 9.10919974, 5.01164164]]),\n",
              " array([[10.58924404,  2.83834991,  5.04996497],\n",
              "        [18.41593965,  1.82966809,  4.45578383],\n",
              "        [14.17945907,  3.68499629,  8.80016175],\n",
              "        [11.94308352,  7.03846162,  0.73675762],\n",
              "        [19.5488857 ,  0.51465053,  6.28366588],\n",
              "        [18.02308615,  0.59941825,  0.54268065],\n",
              "        [18.97753059,  2.90554951,  6.14699039],\n",
              "        [12.77778317,  9.10919974,  5.01164164]]))"
            ]
          },
          "metadata": {
            "tags": []
          },
          "execution_count": 6
        }
      ]
    },
    {
      "cell_type": "code",
      "metadata": {
        "id": "EfRrjLc10-NH"
      },
      "source": [
        "def normalize(x):\n",
        "  return [(x[0][0]/x[0][2], x[0][1]/x[0][2]), (x[1][0]/x[1][2], x[1][1]/x[1][2])]"
      ],
      "execution_count": 7,
      "outputs": []
    },
    {
      "cell_type": "code",
      "metadata": {
        "colab": {
          "base_uri": "https://localhost:8080/"
        },
        "id": "naPKHPY80a3y",
        "outputId": "c1d278c7-7838-40c6-fc70-b3463564b3c0"
      },
      "source": [
        "points_list = np.array(list(map(normalize, zip(points_1, points_2))))\n",
        "points_list"
      ],
      "execution_count": 8,
      "outputs": [
        {
          "output_type": "execute_result",
          "data": {
            "text/plain": [
              "array([[[ 0.1166828 ,  0.56205338],\n",
              "        [ 2.09689455,  0.56205338]],\n",
              "\n",
              "       [[ 1.88876749,  0.41062766],\n",
              "        [ 4.13304154,  0.41062766]],\n",
              "\n",
              "       [[ 0.4749298 ,  0.41874188],\n",
              "        [ 1.61127255,  0.41874188]],\n",
              "\n",
              "       [[ 2.63734433,  9.55329334],\n",
              "        [16.21032924,  9.55329334]],\n",
              "\n",
              "       [[ 1.51963613,  0.08190291],\n",
              "        [ 3.11106384,  0.08190291]],\n",
              "\n",
              "       [[14.78417574,  1.10455062],\n",
              "        [33.21121924,  1.10455062]],\n",
              "\n",
              "       [[ 1.46047578,  0.47267839],\n",
              "        [ 3.08728815,  0.47267839]],\n",
              "\n",
              "       [[ 0.55426612,  1.81760796],\n",
              "        [ 2.54962028,  1.81760796]]])"
            ]
          },
          "metadata": {
            "tags": []
          },
          "execution_count": 8
        }
      ]
    },
    {
      "cell_type": "code",
      "metadata": {
        "id": "NCIjR1qy0SUC"
      },
      "source": [
        "def findFundamnentalMatrix(points_list):\n",
        "  A = []\n",
        "  for points in points_list:\n",
        "    x, y = points[0]\n",
        "    u, v = points[1]\n",
        "    A.append([u*x, u*y, u, x*v, y*v, v, x, y, 1])\n",
        "\n",
        "  A = np.asarray(A, dtype=np.float)\n",
        "  A = A.T\n",
        "\n",
        "  u, s, vt =  np.linalg.svd(A)\n",
        "  print(\"Minimal Singular Value: {}\\n\".format(s[-1]))\n",
        "  x_arr = u[:, -1]\n",
        "  h_i = np.reshape(x_arr, (3,3))\n",
        "  print(\"Fundamental matrix:\\n{}\\n\".format(h_i))\n",
        "  test = x_arr.dot(A)\n",
        "  test[test < 1e-10] = 0\n",
        "  print(\"The next values must be ZERO: {}\\n\\n\".format(test))\n",
        "  return h_i"
      ],
      "execution_count": 9,
      "outputs": []
    },
    {
      "cell_type": "code",
      "metadata": {
        "colab": {
          "base_uri": "https://localhost:8080/"
        },
        "id": "7mrJKJhLxBuo",
        "outputId": "f5d41663-db5e-484c-e02b-68d428e56d94"
      },
      "source": [
        "H = findFundamnentalMatrix(points_list)"
      ],
      "execution_count": 10,
      "outputs": [
        {
          "output_type": "stream",
          "text": [
            "Minimal Singular Value: 0.012888433417570863\n",
            "\n",
            "Fundamental matrix:\n",
            "[[-5.69600561e-17  3.86622200e-15 -1.38123697e-16]\n",
            " [-1.04212697e-14 -4.35983988e-15 -7.07106781e-01]\n",
            " [ 4.42344949e-15  7.07106781e-01 -6.12587839e-15]]\n",
            "\n",
            "The next values must be ZERO: [0. 0. 0. 0. 0. 0. 0. 0.]\n",
            "\n",
            "\n"
          ],
          "name": "stdout"
        }
      ]
    },
    {
      "cell_type": "code",
      "metadata": {
        "colab": {
          "base_uri": "https://localhost:8080/"
        },
        "id": "y0PhM_SdCjAE",
        "outputId": "c14eba8c-9755-4d5b-d841-9db8f0ef6302"
      },
      "source": [
        "q = np.concatenate((points_list[0][0], [1]))\n",
        "q_ = np.concatenate((points_list[0][1], [1]))\n",
        "q, q_"
      ],
      "execution_count": 11,
      "outputs": [
        {
          "output_type": "execute_result",
          "data": {
            "text/plain": [
              "(array([0.1166828 , 0.56205338, 1.        ]),\n",
              " array([2.09689455, 0.56205338, 1.        ]))"
            ]
          },
          "metadata": {
            "tags": []
          },
          "execution_count": 11
        }
      ]
    },
    {
      "cell_type": "code",
      "metadata": {
        "colab": {
          "base_uri": "https://localhost:8080/"
        },
        "id": "SkEarcWL_56m",
        "outputId": "f539c64b-3980-4f62-ed6b-a2dd51cbf65f"
      },
      "source": [
        "q_.T.dot(H).dot(q)"
      ],
      "execution_count": 12,
      "outputs": [
        {
          "output_type": "execute_result",
          "data": {
            "text/plain": [
              "5.551115123125783e-17"
            ]
          },
          "metadata": {
            "tags": []
          },
          "execution_count": 12
        }
      ]
    }
  ]
}