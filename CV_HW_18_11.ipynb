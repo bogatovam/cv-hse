{
  "nbformat": 4,
  "nbformat_minor": 0,
  "metadata": {
    "colab": {
      "name": "CV-HW-18-11.ipynb",
      "provenance": [],
      "collapsed_sections": [],
      "authorship_tag": "ABX9TyOjjyz5SBCGU7TkYMz7Cf9D",
      "include_colab_link": true
    },
    "kernelspec": {
      "name": "python3",
      "display_name": "Python 3"
    }
  },
  "cells": [
    {
      "cell_type": "markdown",
      "metadata": {
        "id": "view-in-github",
        "colab_type": "text"
      },
      "source": [
        "<a href=\"https://colab.research.google.com/github/bogatovam/cv-hse/blob/main/CV_HW_18_11.ipynb\" target=\"_parent\"><img src=\"https://colab.research.google.com/assets/colab-badge.svg\" alt=\"Open In Colab\"/></a>"
      ]
    },
    {
      "cell_type": "markdown",
      "metadata": {
        "id": "nVrP1n1q6ORc"
      },
      "source": [
        "## Подготовка окружения"
      ]
    },
    {
      "cell_type": "code",
      "metadata": {
        "id": "uMJhxa0W6UIF"
      },
      "source": [
        "import cv2\n",
        "import numpy as np"
      ],
      "execution_count": 1,
      "outputs": []
    },
    {
      "cell_type": "markdown",
      "metadata": {
        "id": "ixUjhnpplV-o"
      },
      "source": [
        "## Задание №1\n",
        "\n",
        "Первая камера повернута относительно второй на 45 градусов по оси z и сдвинута на 10 по оси x (в системе отсчета, связанной с первой камерой). У обоих камер матрицы внутренних параметров единичные. Найти фундаментальную матрицу."
      ]
    },
    {
      "cell_type": "markdown",
      "metadata": {
        "id": "6EGJBWRr3ueh"
      },
      "source": [
        "**Решение.** \n",
        "Формула фундаментальной матрицы:\n",
        ">$F = K^{-T}[T]RK^{-1} = / K  = E / =[T]_XR$\n",
        "\n",
        "$[T]_X$ представим как кососимметричную матрицу\n"
      ]
    },
    {
      "cell_type": "code",
      "metadata": {
        "id": "_CKlcmO5z5vM"
      },
      "source": [
        "angle = np.deg2rad(45)\n",
        "\n",
        "R =  [[np.cos(angle),   -np.sin(angle),   0],\n",
        "      [np.sin(angle),   np.cos(angle),   0],\n",
        "      [0,               0,               1]]\n",
        "R = np.array(R)\n",
        "\n",
        "T = [[0, 0,   0],\n",
        "     [0, 0, -10],\n",
        "     [0, 10,  0]]\n",
        "\n",
        "T = np.array(T)"
      ],
      "execution_count": 2,
      "outputs": []
    },
    {
      "cell_type": "code",
      "metadata": {
        "id": "gNwtgACS14fu",
        "colab": {
          "base_uri": "https://localhost:8080/"
        },
        "outputId": "2129d0a0-e9df-41dc-ff78-07f083ea7680"
      },
      "source": [
        "F = np.matmul(T, R)\n",
        "print(\"Fundamental matrix:\\n{}\".format(F))"
      ],
      "execution_count": 3,
      "outputs": [
        {
          "output_type": "stream",
          "text": [
            "Fundamental matrix:\n",
            "[[  0.           0.           0.        ]\n",
            " [  0.           0.         -10.        ]\n",
            " [  7.07106781   7.07106781   0.        ]]\n"
          ],
          "name": "stdout"
        }
      ]
    },
    {
      "cell_type": "markdown",
      "metadata": {
        "id": "sVNy-SyRQh1s"
      },
      "source": [
        "## Задание №2\n",
        "\n",
        "Первая камера повернута относительно мировой системы координат на 45 градусов по оси z, а вторая – на -45 градусов по оси у и сдвинута на 10 по оси x. У обоих камер матрицы внутренних параметров единичные. Найти фундаментальную матрицу"
      ]
    },
    {
      "cell_type": "markdown",
      "metadata": {
        "id": "EdaNI5buYAcd"
      },
      "source": [
        "**Решение.** \n",
        "\n",
        "Матрица проекции первой камеры:\n",
        ">$P_1 = [R_1|T_1]$\n",
        "\n",
        "Матрица проекции второй камеры:\n",
        ">$P_2 = [R_2|T_2]$\n",
        "\n",
        "Формула нахождения фундаментальной матрицы через матрицы проекций:\n",
        ">$F = [e']_X P_1 {P_2}^+$\n",
        "\n",
        "где $e'= P_2O$  и  $O_1 = (0,0,0) + T_1$ \n"
      ]
    },
    {
      "cell_type": "code",
      "metadata": {
        "id": "D-w2fcP0wuop"
      },
      "source": [
        "angle = np.deg2rad(45)\n",
        "\n",
        "R_1 =[[np.cos(angle),   -np.sin(angle),   0],\n",
        "      [np.sin(angle),   np.cos(angle),   0],\n",
        "      [0,               0,               1]]\n",
        "\n",
        "T_1 = [[0, 0, 0]]\n",
        "\n",
        "T_1 = np.array(T_1).T\n",
        "\n",
        "P_1 = np.concatenate((R_1, T_1), axis=1)"
      ],
      "execution_count": 4,
      "outputs": []
    },
    {
      "cell_type": "code",
      "metadata": {
        "id": "2HICqZXURWqu"
      },
      "source": [
        "angle_2 = np.deg2rad(-45)\n",
        "\n",
        "R_2 =[[np.cos(angle_2),   0,   np.sin(angle_2)],\n",
        "      [0,                 1,                 0],\n",
        "      [-np.sin(angle_2),  0,   np.cos(angle_2)]]\n",
        "\n",
        "T_2 = [[10, 0, 0]]\n",
        "\n",
        "T_2 = np.array(T_2).T\n",
        "\n",
        "P_2 = np.concatenate((R_2, T_2), axis=1)"
      ],
      "execution_count": 5,
      "outputs": []
    },
    {
      "cell_type": "code",
      "metadata": {
        "id": "h-rbIJHmSR3X"
      },
      "source": [
        "P_1_pinv = np.linalg.pinv(P_1)"
      ],
      "execution_count": 6,
      "outputs": []
    },
    {
      "cell_type": "code",
      "metadata": {
        "id": "zQWNnI2hSZ6E"
      },
      "source": [
        "O_1 = np.array([[0, 0, 0]]).T + T_1\n",
        "e_2 = P_2.dot(np.append(O_1, np.array([1])))"
      ],
      "execution_count": 7,
      "outputs": []
    },
    {
      "cell_type": "code",
      "metadata": {
        "id": "NekiF25wS7hm"
      },
      "source": [
        "e_2 = [[ 0,      -e_2[2],   e_2[1]  ],\n",
        "       [ e_2[2],       0,   -e_2[0] ],\n",
        "       [-e_2[1],  e_2[0],        0] ]\n",
        "\n",
        "e_2 = np.array(e_2)"
      ],
      "execution_count": 8,
      "outputs": []
    },
    {
      "cell_type": "code",
      "metadata": {
        "id": "JgjwwkihUA3g"
      },
      "source": [
        "F = e_2.dot(P_2).dot(P_1_pinv)"
      ],
      "execution_count": 9,
      "outputs": []
    },
    {
      "cell_type": "code",
      "metadata": {
        "colab": {
          "base_uri": "https://localhost:8080/"
        },
        "id": "ionMys_YURLH",
        "outputId": "7b3914e9-e2dd-4c60-8e76-44535a95423d"
      },
      "source": [
        "print(\"Fundamental matrix:\\n{}\".format(F))"
      ],
      "execution_count": 10,
      "outputs": [
        {
          "output_type": "stream",
          "text": [
            "Fundamental matrix:\n",
            "[[ 0.          0.          0.        ]\n",
            " [-5.         -5.         -7.07106781]\n",
            " [-7.07106781  7.07106781  0.        ]]\n"
          ],
          "name": "stdout"
        }
      ]
    },
    {
      "cell_type": "markdown",
      "metadata": {
        "id": "LQu3C-AGkcmT"
      },
      "source": [
        "## Задание №3\n",
        "\n",
        "В задаче 1 найти оба эпиполя"
      ]
    },
    {
      "cell_type": "markdown",
      "metadata": {
        "id": "mZ2H1fqduChU"
      },
      "source": [
        "**Решение.** \n",
        "> $e_1= P_1O_2$  и  $O_2 = (0,0,0) + T_2 = T_2$ \n",
        "\n",
        "> $e_2= P_2O_1$  и  $O_1 = (0,0,0) + T_1$ "
      ]
    },
    {
      "cell_type": "code",
      "metadata": {
        "id": "m5d5mEq2fDvs"
      },
      "source": [
        "T_1 = np.array([[10, 0, 0]]).T\n",
        "T_2 = np.array([[0, 0, 0]]).T\n",
        "\n",
        "O_1 = np.array([[0, 0, 0]]).T + T_1\n",
        "O_2 = np.array([[0, 0, 0]]).T + T_2"
      ],
      "execution_count": 11,
      "outputs": []
    },
    {
      "cell_type": "code",
      "metadata": {
        "id": "2EnlPtptbYJF"
      },
      "source": [
        "angle = np.deg2rad(45)\n",
        "\n",
        "R_1 =[[np.cos(angle),   -np.sin(angle),   0],\n",
        "      [np.sin(angle),   np.cos(angle),   0],\n",
        "      [0,               0,               1]]\n",
        "\n",
        "P_1 = np.concatenate((R_1, T_1), axis=1)"
      ],
      "execution_count": 12,
      "outputs": []
    },
    {
      "cell_type": "code",
      "metadata": {
        "id": "w9ZR9Ihdb4xJ"
      },
      "source": [
        "R_2 = np.diag(np.ones((3, )))\n",
        "P_2 = np.concatenate((R_2, T_2), axis=1)"
      ],
      "execution_count": 13,
      "outputs": []
    },
    {
      "cell_type": "code",
      "metadata": {
        "id": "H0a8loymcyWV"
      },
      "source": [
        "e_1 = P_1.dot(np.append(O_2, np.array([1])))\n",
        "e_2 = P_2.dot(np.append(O_1, np.array([1])))"
      ],
      "execution_count": 14,
      "outputs": []
    },
    {
      "cell_type": "code",
      "metadata": {
        "colab": {
          "base_uri": "https://localhost:8080/"
        },
        "id": "zQneQXxYdZE_",
        "outputId": "c4aced10-530c-49d3-f364-111fa1a84afd"
      },
      "source": [
        "print(\"Epipolar line #1:\\n {}\".format(e_1))\n",
        "print(\"Epipolar line #2:\\n {}\".format(e_2))"
      ],
      "execution_count": 15,
      "outputs": [
        {
          "output_type": "stream",
          "text": [
            "Epipolar line #1:\n",
            " [10.  0.  0.]\n",
            "Epipolar line #2:\n",
            " [10.  0.  0.]\n"
          ],
          "name": "stdout"
        }
      ]
    },
    {
      "cell_type": "markdown",
      "metadata": {
        "id": "mNRK23B-dvRL"
      },
      "source": [
        "## Задание №4\n",
        "\n",
        "В задаче 1 найти эпиполярную линию, проходящую через точку (0,0) на первом изображении, и соответствующую ей линию на втором изображении"
      ]
    },
    {
      "cell_type": "code",
      "metadata": {
        "id": "5C51LtiyhkTO"
      },
      "source": [
        "angle = np.deg2rad(45)\n",
        "\n",
        "R =  [[np.cos(angle),   -np.sin(angle),   0],\n",
        "      [np.sin(angle),   np.cos(angle),   0],\n",
        "      [0,               0,               1]]\n",
        "R = np.array(R)\n",
        "\n",
        "T = [[0, 0,   0],\n",
        "     [0, 0, -10],\n",
        "     [0, 10,  0]]\n",
        "\n",
        "T = np.array(T)\n",
        "F = np.matmul(T, R)"
      ],
      "execution_count": 16,
      "outputs": []
    },
    {
      "cell_type": "code",
      "metadata": {
        "id": "o4xlKt-ThD5V"
      },
      "source": [
        "q_1 = np.array([[0, 0, 1]]).T\n",
        "l_2 = F.dot(q_1).T"
      ],
      "execution_count": 17,
      "outputs": []
    },
    {
      "cell_type": "code",
      "metadata": {
        "id": "pKLoy18kh9nG"
      },
      "source": [
        "q_2 = P_2.dot(np.linalg.pinv(P_1)).dot(q_1)"
      ],
      "execution_count": 18,
      "outputs": []
    },
    {
      "cell_type": "code",
      "metadata": {
        "id": "kv0_whDFikBR"
      },
      "source": [
        "l_1 = q_2.T.dot(F)"
      ],
      "execution_count": 19,
      "outputs": []
    },
    {
      "cell_type": "code",
      "metadata": {
        "colab": {
          "base_uri": "https://localhost:8080/"
        },
        "id": "I4Ph44_3iqWm",
        "outputId": "74441ff5-1163-4b53-a40d-efc8d1da59e6"
      },
      "source": [
        "print(\"Epipolar line #1:\\n {}\".format(l_1))"
      ],
      "execution_count": 20,
      "outputs": [
        {
          "output_type": "stream",
          "text": [
            "Epipolar line #1:\n",
            " [[7.07106781 7.07106781 0.        ]]\n"
          ],
          "name": "stdout"
        }
      ]
    },
    {
      "cell_type": "code",
      "metadata": {
        "colab": {
          "base_uri": "https://localhost:8080/"
        },
        "id": "zGof-Bf0iynh",
        "outputId": "cd007fa8-c028-426c-9363-a95de8822ff6"
      },
      "source": [
        "print(\"Epipolar line #2:\\n {}\".format(l_2))"
      ],
      "execution_count": 21,
      "outputs": [
        {
          "output_type": "stream",
          "text": [
            "Epipolar line #2:\n",
            " [[  0. -10.   0.]]\n"
          ],
          "name": "stdout"
        }
      ]
    },
    {
      "cell_type": "markdown",
      "metadata": {
        "id": "B7dLCw6jtEXm"
      },
      "source": [
        "## Задание №5\n",
        "\n",
        "Вторая камера сдвинута относительно первой вдоль оси x (в системе отсчета, связанной с первой камерой). Найти эпиполярную линию на изображении второй камеры, соответствующую эпиполярной линии на изображении первой\n",
        "камеры, заданной вектором (0,1,0). "
      ]
    },
    {
      "cell_type": "markdown",
      "metadata": {
        "id": "KZnSjxpQX0bb"
      },
      "source": [
        "**Решение.** \n",
        ">$l_2 = Fq_1$\n",
        "\n",
        ">$l_1 = q_2^TF  $\n",
        "\n",
        ">$q_2^TFq_1 = 0 \\rightarrow  l_1q_1 = 0 $\n",
        "\n",
        "Находим $q_1$ и подставляем его в первую формулу. Посчитаем вручную:\n",
        "\n",
        "$\\begin{pmatrix} 0\\\\1\\\\0\\end{pmatrix} *\\begin{pmatrix}x & y & z\\end{pmatrix} = 0$\n",
        "\n",
        "$\\rightarrow q_1 = \\begin{pmatrix}x & y & z\\end{pmatrix} = \\begin{pmatrix}a & 0 & b\\end{pmatrix}$\n",
        "\n",
        "Пусть $q_1 = \\begin{pmatrix}1 & 0 & 1\\end{pmatrix}$\n",
        "\n",
        "Далее посчитаем $l_2 = Fq_1$"
      ]
    },
    {
      "cell_type": "code",
      "metadata": {
        "colab": {
          "base_uri": "https://localhost:8080/"
        },
        "id": "Dz2zZEYjW9yr",
        "outputId": "053f9239-b2b0-471d-8497-d3ccd0066c04"
      },
      "source": [
        "F = [[0, 0,   0],\n",
        "     [0, 0, -1],\n",
        "     [0, 1,  0]]\n",
        "\n",
        "F = np.array(F)\n",
        "\n",
        "q_1 = np.array([[1, 0, 1]]).T\n",
        "\n",
        "print(\"Epipolar line:\\n {}\".format(F.dot(q_1)))"
      ],
      "execution_count": 24,
      "outputs": [
        {
          "output_type": "stream",
          "text": [
            "Epipolar line:\n",
            " [[ 0]\n",
            " [-1]\n",
            " [ 0]]\n"
          ],
          "name": "stdout"
        }
      ]
    }
  ]
}