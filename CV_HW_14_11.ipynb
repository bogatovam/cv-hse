{
  "nbformat": 4,
  "nbformat_minor": 0,
  "metadata": {
    "colab": {
      "name": "CV-HW-14-11.ipynb",
      "provenance": [],
      "collapsed_sections": [],
      "authorship_tag": "ABX9TyNhkekKFCwNEC582DEl9tVc",
      "include_colab_link": true
    },
    "kernelspec": {
      "name": "python3",
      "display_name": "Python 3"
    }
  },
  "cells": [
    {
      "cell_type": "markdown",
      "metadata": {
        "id": "view-in-github",
        "colab_type": "text"
      },
      "source": [
        "<a href=\"https://colab.research.google.com/github/bogatovam/cv-hse/blob/main/CV_HW_14_11.ipynb\" target=\"_parent\"><img src=\"https://colab.research.google.com/assets/colab-badge.svg\" alt=\"Open In Colab\"/></a>"
      ]
    },
    {
      "cell_type": "markdown",
      "metadata": {
        "id": "nVrP1n1q6ORc"
      },
      "source": [
        "## Подготовка окружения"
      ]
    },
    {
      "cell_type": "code",
      "metadata": {
        "id": "uMJhxa0W6UIF"
      },
      "source": [
        "import cv2\n",
        "import numpy as np"
      ],
      "execution_count": 1,
      "outputs": []
    },
    {
      "cell_type": "markdown",
      "metadata": {
        "id": "ixUjhnpplV-o"
      },
      "source": [
        "## Задание №1\n",
        "\n",
        "Система координат камеры получается из мировой поворотом на 45\n",
        "градусов вокруг оси z и трансляцией на 10 вдоль оси z. Внутренние параметры\n",
        "камеры: fx=fy=400, cx=960, cy=540. Написать программу, которая выводит на экран\n",
        "**матрицу проекции камеры** и **целочисленные координаты пикселя на изображении**,\n",
        "соответствующего трехмерной точке с координатами (10, -10, 100) в мировой\n",
        "системе координат."
      ]
    },
    {
      "cell_type": "markdown",
      "metadata": {
        "id": "6EGJBWRr3ueh"
      },
      "source": [
        "**Решение.** \n",
        ">$P = K[R|T]$\n",
        "\n",
        ">$(u,v,z) = P*(x,y,z,1)$"
      ]
    },
    {
      "cell_type": "code",
      "metadata": {
        "id": "Gg6tISbVRYY0"
      },
      "source": [
        "K = [[400, 0,     960],\n",
        "     [0,   400,   540],\n",
        "     [0,   0,     1]]\n",
        "     \n",
        "K = np.array(K)"
      ],
      "execution_count": 2,
      "outputs": []
    },
    {
      "cell_type": "code",
      "metadata": {
        "id": "_CKlcmO5z5vM"
      },
      "source": [
        "angle = np.deg2rad(45)\n",
        "\n",
        "R =  [[np.cos(angle),   -np.sin(angle),   0],\n",
        "      [np.sin(angle),   np.cos(angle),   0],\n",
        "      [0,               0,               1]]"
      ],
      "execution_count": 3,
      "outputs": []
    },
    {
      "cell_type": "code",
      "metadata": {
        "id": "BmNsDGWC1e2s"
      },
      "source": [
        "T = [[0, 0, 10]]\n",
        "\n",
        "T = np.array(T).T"
      ],
      "execution_count": 4,
      "outputs": []
    },
    {
      "cell_type": "code",
      "metadata": {
        "id": "r6v0SARj1v2A"
      },
      "source": [
        "R_T = np.concatenate((R, T), axis=1)"
      ],
      "execution_count": 5,
      "outputs": []
    },
    {
      "cell_type": "code",
      "metadata": {
        "id": "gNwtgACS14fu",
        "outputId": "3b8151c5-3f82-44c2-89d6-6ec116109037",
        "colab": {
          "base_uri": "https://localhost:8080/"
        }
      },
      "source": [
        "P = np.matmul(K,R_T)\n",
        "print(\"Camera projection matrix:\\n{}\".format(R_T))"
      ],
      "execution_count": 6,
      "outputs": [
        {
          "output_type": "stream",
          "text": [
            "Camera projection matrix:\n",
            "[[ 0.70710678 -0.70710678  0.          0.        ]\n",
            " [ 0.70710678  0.70710678  0.          0.        ]\n",
            " [ 0.          0.          1.         10.        ]]\n"
          ],
          "name": "stdout"
        }
      ]
    },
    {
      "cell_type": "code",
      "metadata": {
        "id": "T5X_PoK02SKp"
      },
      "source": [
        "point = np.array([[10, -10, 100, 1]]).T\n",
        "u_v_1 = np.matmul(P, point)"
      ],
      "execution_count": 7,
      "outputs": []
    },
    {
      "cell_type": "code",
      "metadata": {
        "id": "oHhhz85I40re"
      },
      "source": [
        "image_point = [np.round(u_v_1[0][0]/u_v_1[2][0]), np.round(u_v_1[1][0]/u_v_1[2][0])]"
      ],
      "execution_count": 8,
      "outputs": []
    },
    {
      "cell_type": "code",
      "metadata": {
        "id": "XetQTfwm2sTg",
        "outputId": "5d90e025-426e-4d4d-8a03-7c479f5ce4d0",
        "colab": {
          "base_uri": "https://localhost:8080/"
        }
      },
      "source": [
        "print(\"Pixel coords:\\n{}\".format(image_point))"
      ],
      "execution_count": 9,
      "outputs": [
        {
          "output_type": "stream",
          "text": [
            "Pixel coords:\n",
            "[1011.0, 540.0]\n"
          ],
          "name": "stdout"
        }
      ]
    },
    {
      "cell_type": "markdown",
      "metadata": {
        "id": "sVNy-SyRQh1s"
      },
      "source": [
        "## Задание №2\n",
        "\n",
        "Используя прямое линейное преобразование (direct linear\n",
        "transformation) и SVD, написать программу, которая принимает на вход множество\n",
        "пар двумерных точек, и выводит на экран соответствующую этим парам матрицу\n",
        "гомографии."
      ]
    },
    {
      "cell_type": "markdown",
      "metadata": {
        "id": "EdaNI5buYAcd"
      },
      "source": [
        "**Решение.** Каждый `i`-й набор точек запишем в виде матрицы размера`2×9`, которая имеет вид:\n",
        "$\n",
        "P_i = \\begin{bmatrix}\n",
        "−x_i&−y_i&−1&0&0&0&x_ix′_i&y_ix′_i&x′_i\\\\0&0&0&−x_i&−y_i&−1&x_iy′_i&y_iy′_i&y′_i]\n",
        "\\end{bmatrix}\n",
        "$\n",
        "\n",
        "\n",
        "И далее объединяем все $P_i$ в матрицу $P$ и решаем с помощью SVD однородное уравнение вида $PH=0$"
      ]
    },
    {
      "cell_type": "code",
      "metadata": {
        "id": "D-w2fcP0wuop",
        "outputId": "df2574c1-3327-4de7-93a6-2750ab2fb04e",
        "colab": {
          "base_uri": "https://localhost:8080/"
        }
      },
      "source": [
        "angle = np.deg2rad(45)\n",
        "\n",
        "R =  [[np.cos(angle),   -np.sin(angle),   0],\n",
        "      [np.sin(angle),   np.cos(angle),   0],\n",
        "      [0,               0,               1]]\n",
        "\n",
        "R = np.array(R)\n",
        "\n",
        "print(\"True homography matrix:\\n{}\".format(R))"
      ],
      "execution_count": 10,
      "outputs": [
        {
          "output_type": "stream",
          "text": [
            "True homography matrix:\n",
            "[[ 0.70710678 -0.70710678  0.        ]\n",
            " [ 0.70710678  0.70710678  0.        ]\n",
            " [ 0.          0.          1.        ]]\n"
          ],
          "name": "stdout"
        }
      ]
    },
    {
      "cell_type": "code",
      "metadata": {
        "id": "ZKxqVCUwNKVU"
      },
      "source": [
        "def normalize(x):\n",
        "  return [(x[0][0]/x[0][2], x[0][1]/x[0][2]), (x[1][0]/x[1][2], x[1][1]/x[1][2])]"
      ],
      "execution_count": 11,
      "outputs": []
    },
    {
      "cell_type": "code",
      "metadata": {
        "id": "3jO0Kq2LgPKn"
      },
      "source": [
        "def findHomography(points_list):\n",
        "  A = []\n",
        "  for points in points_list:\n",
        "    x, y = points[0]\n",
        "    u, v = points[1]\n",
        "    A.append([-x, -y, -1, 0, 0, 0, x*u, y*u, u])\n",
        "    A.append([0, 0, 0, -x, -y, -1, x*v, y*v, v])\n",
        "\n",
        "  A = np.asarray(A, dtype=np.float)\n",
        "  d, u_, vt = cv2.SVDecomp(A)\n",
        "\n",
        "  x_len = (np.abs(d) < 1e-10).sum()\n",
        "  if x_len == 0:\n",
        "    print(\"There is no solution\")\n",
        "  else:\n",
        "    x_arr = vt[-x_len:]\n",
        "    for i in range(x_len):\n",
        "      h_i = np.reshape(x_arr[i]/x_arr[i][-1], (3,3))\n",
        "      print(\"Homography matrix #{}:\\n{}\\n\".format(i + 1, h_i))\n",
        "      test = A.dot(x_arr[i])\n",
        "      test[test < 1e-10] = 0\n",
        "      print(\"The next values must be ZERO: {}\\n\\n\".format(test))"
      ],
      "execution_count": 12,
      "outputs": []
    },
    {
      "cell_type": "code",
      "metadata": {
        "id": "TQ3kgosew-Tf",
        "outputId": "86699080-ebd6-45d5-c062-4896ac37703d",
        "colab": {
          "base_uri": "https://localhost:8080/"
        }
      },
      "source": [
        "x_vec = np.random.rand(3, 5) * 10\n",
        "\n",
        "x_vec_ = R.dot(x_vec)\n",
        "points_list = np.array(list(map(normalize, zip(x_vec.T, x_vec_.T))))\n",
        "\n",
        "print(\"Normalized points \\n{}\\n\".format(points_list))\n",
        "\n",
        "findHomography(points_list)"
      ],
      "execution_count": 13,
      "outputs": [
        {
          "output_type": "stream",
          "text": [
            "Normalized points \n",
            "[[[ 0.89259107  1.18223752]\n",
            "  [-0.20481097  1.46712537]]\n",
            "\n",
            " [[ 1.5374177   1.22707266]\n",
            "  [ 0.21944708  1.95478988]]\n",
            "\n",
            " [[ 2.07999365  1.44571846]\n",
            "  [ 0.44850029  2.49305495]]\n",
            "\n",
            " [[ 0.90608315  1.00773452]\n",
            "  [-0.07187837  1.35327346]]\n",
            "\n",
            " [[ 2.10210145  0.31565042]\n",
            "  [ 1.26321163  1.70960874]]]\n",
            "\n",
            "Homography matrix #1:\n",
            "[[ 7.07106781e-01 -7.07106781e-01  1.15762981e-16]\n",
            " [ 7.07106781e-01  7.07106781e-01  1.90141611e-15]\n",
            " [ 1.48745130e-16 -4.11564711e-16  1.00000000e+00]]\n",
            "\n",
            "The next values must be ZERO: [0. 0. 0. 0. 0. 0. 0. 0. 0. 0.]\n",
            "\n",
            "\n"
          ],
          "name": "stdout"
        }
      ]
    },
    {
      "cell_type": "markdown",
      "metadata": {
        "id": "LQu3C-AGkcmT"
      },
      "source": [
        "## Задание №3\n",
        "\n",
        "Два изображения одной и той же сцены сделаны одной и той же\n",
        "камерой. Второй снимок сделан после поворота камеры на 30 градусов вокруг оси\n",
        "x относительно начала координат системы отсчета, связанной с камерой (без\n",
        "сдвига). Найти матрицу гомографии между двумя изображениями."
      ]
    },
    {
      "cell_type": "markdown",
      "metadata": {
        "id": "mZ2H1fqduChU"
      },
      "source": [
        "**Решение.** \n",
        "> $S_2 = RS_1 + T$\n",
        "\n",
        "Но в нашем случае $T = 0$. Тогда матрица гомографии между изображениями это матрица поворота:\n",
        "> $H = R$\n"
      ]
    },
    {
      "cell_type": "code",
      "metadata": {
        "id": "m5d5mEq2fDvs",
        "outputId": "f0552a20-3288-4a51-f4d3-8bdeabb79eb7",
        "colab": {
          "base_uri": "https://localhost:8080/"
        }
      },
      "source": [
        "angle = np.deg2rad(30)\n",
        "\n",
        "R =  [[1,   0,               0            ],\n",
        "      [0,   np.cos(angle),  -np.sin(angle)],\n",
        "      [0,   np.sin(angle),   np.cos(angle)]]\n",
        "\n",
        "R = np.array(R)\n",
        "\n",
        "print(\"Homography matrix:\\n{}\".format(R))"
      ],
      "execution_count": 14,
      "outputs": [
        {
          "output_type": "stream",
          "text": [
            "Homography matrix:\n",
            "[[ 1.         0.         0.       ]\n",
            " [ 0.         0.8660254 -0.5      ]\n",
            " [ 0.         0.5        0.8660254]]\n"
          ],
          "name": "stdout"
        }
      ]
    }
  ]
}